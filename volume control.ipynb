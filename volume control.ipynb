{
 "cells": [
  {
   "cell_type": "code",
   "execution_count": 3,
   "id": "1f984f23",
   "metadata": {},
   "outputs": [],
   "source": [
    "import cv2\n",
    "import mediapipe as mp\n",
    "from pynput.keyboard import Key,Controller\n",
    "import numpy as np\n",
    "\n",
    "keyboard=Controller()\n",
    "mphands=mp.solutions.hands\n",
    "hands=mphands.Hands()\n",
    "draw=mp.solutions.drawing_utils\n",
    "cap=cv2.VideoCapture(0)\n",
    "init=0\n",
    "final=0\n",
    "coordinate=[]\n",
    "def volum_control(init,final):\n",
    "    if final> init:\n",
    "        keyboard.press(Key.media_volume_up)\n",
    "        keyboard.release(Key.media_volume_up)\n",
    "    else:\n",
    "        keyboard.press(Key.media_volume_down)\n",
    "        keyboard.release(Key.media_volume_down)\n",
    "        \n",
    "while cap.isOpened() :\n",
    "    _,img=cap.read()\n",
    "    frame=cv2.cvtColor(img,cv2.COLOR_BGR2RGB)\n",
    "    h,w,_=frame.shape\n",
    "    result=hands.process(frame)\n",
    "    if result.multi_hand_landmarks:\n",
    "        for points in result.multi_hand_landmarks:\n",
    "            for idx,point in enumerate(points.landmark):\n",
    "                cx,cy=int(point.x*w),int(point.y*h)\n",
    "                draw.draw_landmarks(img,points,mphands.HAND_CONNECTIONS)\n",
    "                if idx in [4,8]:\n",
    "                    coordinate.append(np.array([cx,cy]))\n",
    "                    cv2.circle(img,(cx,cy),10,(255,74,37),cv2.FILLED)\n",
    "    if len(coordinate)>1:\n",
    "        cv2.line(img,coordinate[0],coordinate[1],(0,0,255),2)\n",
    "        final=np.around(np.linalg.norm(coordinate[0]-coordinate[1]),2)\n",
    "        volum_control(init,final)\n",
    "    init=final\n",
    "    coordinate=[]\n",
    "    cv2.imshow('frame',img)\n",
    "    if cv2.waitKey(1)==27:\n",
    "        break\n",
    "cap.release()\n",
    "cv2.destroyAllWindows()\n",
    "    \n",
    "    \n",
    "    \n",
    "    \n",
    "    \n",
    "    \n",
    "    \n",
    "    \n",
    "    \n",
    "    \n"
   ]
  },
  {
   "cell_type": "code",
   "execution_count": null,
   "id": "691484d6",
   "metadata": {},
   "outputs": [],
   "source": []
  }
 ],
 "metadata": {
  "kernelspec": {
   "display_name": "Python 3 (ipykernel)",
   "language": "python",
   "name": "python3"
  },
  "language_info": {
   "codemirror_mode": {
    "name": "ipython",
    "version": 3
   },
   "file_extension": ".py",
   "mimetype": "text/x-python",
   "name": "python",
   "nbconvert_exporter": "python",
   "pygments_lexer": "ipython3",
   "version": "3.10.9"
  }
 },
 "nbformat": 4,
 "nbformat_minor": 5
}
